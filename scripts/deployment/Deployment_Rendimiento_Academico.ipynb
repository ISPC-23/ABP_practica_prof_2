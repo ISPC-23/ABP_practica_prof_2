{
  "nbformat": 4,
  "nbformat_minor": 0,
  "metadata": {
    "colab": {
      "provenance": []
    },
    "kernelspec": {
      "name": "python3",
      "display_name": "Python 3"
    },
    "language_info": {
      "name": "python"
    }
  },
  "cells": [
    {
      "cell_type": "markdown",
      "source": [
        "### Registramos en mlflow"
      ],
      "metadata": {
        "id": "uGrYkeGfjEt2"
      }
    },
    {
      "cell_type": "code",
      "source": [
        "# Registrar en MLflow\n",
        "mlflow.sklearn.log_model(model,artifact_path=\"modelo_Estudiantes\") # Mejor Modelo para prod"
      ],
      "metadata": {
        "colab": {
          "base_uri": "https://localhost:8080/"
        },
        "id": "ryKKg8_kjLQd",
        "outputId": "73100264-83e4-4ea9-9636-117599fddbc7"
      },
      "execution_count": null,
      "outputs": [
        {
          "output_type": "stream",
          "name": "stderr",
          "text": [
            "2025/05/29 19:47:45 WARNING mlflow.models.model: Model logged without a signature and input example. Please set `input_example` parameter when logging the model to auto infer the model signature.\n"
          ]
        },
        {
          "output_type": "execute_result",
          "data": {
            "text/plain": [
              "<mlflow.models.model.ModelInfo at 0x7f1e4de4e6d0>"
            ]
          },
          "metadata": {},
          "execution_count": 29
        }
      ]
    },
    {
      "cell_type": "code",
      "source": [],
      "metadata": {
        "id": "4rnvcbOrmNeN"
      },
      "execution_count": null,
      "outputs": []
    },
    {
      "cell_type": "markdown",
      "source": [
        "\n",
        "\n",
        "---\n",
        "### Ahora ponemos en producción la API\n"
      ],
      "metadata": {
        "id": "wrHtpwK4imMm"
      }
    },
    {
      "cell_type": "code",
      "source": [
        "run_id = mlflow.last_active_run().info.run_id\n",
        "model_uri = f\"runs:/{run_id}/modelo_Estudiantes\"\n",
        "print(\"Model URI:\", model_uri)"
      ],
      "metadata": {
        "colab": {
          "base_uri": "https://localhost:8080/"
        },
        "id": "UIXngF_tmUAN",
        "outputId": "fd9e27a0-9e06-4918-da9f-822543a2a6b2"
      },
      "execution_count": null,
      "outputs": [
        {
          "output_type": "stream",
          "name": "stdout",
          "text": [
            "Model URI: runs:/35364e4131094b159690b5fabd7a3134/modelo_Estudiantes\n"
          ]
        }
      ]
    },
    {
      "cell_type": "code",
      "source": [
        "! pip install flask_ngrok"
      ],
      "metadata": {
        "colab": {
          "base_uri": "https://localhost:8080/"
        },
        "id": "bITQSU15eCAZ",
        "outputId": "4f309f11-1380-4609-eaec-5204188722ea"
      },
      "execution_count": null,
      "outputs": [
        {
          "output_type": "stream",
          "name": "stdout",
          "text": [
            "Collecting flask_ngrok\n",
            "  Downloading flask_ngrok-0.0.25-py3-none-any.whl.metadata (1.8 kB)\n",
            "Requirement already satisfied: Flask>=0.8 in /usr/local/lib/python3.11/dist-packages (from flask_ngrok) (3.0.3)\n",
            "Requirement already satisfied: requests in /usr/local/lib/python3.11/dist-packages (from flask_ngrok) (2.32.3)\n",
            "Requirement already satisfied: Werkzeug>=3.0.0 in /usr/local/lib/python3.11/dist-packages (from Flask>=0.8->flask_ngrok) (3.0.6)\n",
            "Requirement already satisfied: Jinja2>=3.1.2 in /usr/local/lib/python3.11/dist-packages (from Flask>=0.8->flask_ngrok) (3.1.6)\n",
            "Requirement already satisfied: itsdangerous>=2.1.2 in /usr/local/lib/python3.11/dist-packages (from Flask>=0.8->flask_ngrok) (2.2.0)\n",
            "Requirement already satisfied: click>=8.1.3 in /usr/local/lib/python3.11/dist-packages (from Flask>=0.8->flask_ngrok) (8.2.1)\n",
            "Requirement already satisfied: blinker>=1.6.2 in /usr/local/lib/python3.11/dist-packages (from Flask>=0.8->flask_ngrok) (1.9.0)\n",
            "Requirement already satisfied: charset-normalizer<4,>=2 in /usr/local/lib/python3.11/dist-packages (from requests->flask_ngrok) (3.4.2)\n",
            "Requirement already satisfied: idna<4,>=2.5 in /usr/local/lib/python3.11/dist-packages (from requests->flask_ngrok) (3.10)\n",
            "Requirement already satisfied: urllib3<3,>=1.21.1 in /usr/local/lib/python3.11/dist-packages (from requests->flask_ngrok) (2.4.0)\n",
            "Requirement already satisfied: certifi>=2017.4.17 in /usr/local/lib/python3.11/dist-packages (from requests->flask_ngrok) (2025.4.26)\n",
            "Requirement already satisfied: MarkupSafe>=2.0 in /usr/local/lib/python3.11/dist-packages (from Jinja2>=3.1.2->Flask>=0.8->flask_ngrok) (3.0.2)\n",
            "Downloading flask_ngrok-0.0.25-py3-none-any.whl (3.1 kB)\n",
            "Installing collected packages: flask_ngrok\n",
            "Successfully installed flask_ngrok-0.0.25\n"
          ]
        }
      ]
    },
    {
      "cell_type": "code",
      "source": [
        "!fuser -k 1234/tcp || true"
      ],
      "metadata": {
        "id": "iLBBQpILckDr"
      },
      "execution_count": null,
      "outputs": []
    },
    {
      "cell_type": "code",
      "source": [
        "!ls /content/drive/MyDrive/mlflow_runs/110792071088175407/$run_id/artifacts/modelo_Estudiantes  # Vemos que el modelo esta dentro de nuestro drive."
      ],
      "metadata": {
        "colab": {
          "base_uri": "https://localhost:8080/"
        },
        "id": "dm6qy66CmtNC",
        "outputId": "6ef7d40f-86d4-4c0b-d003-3ab57862adf7"
      },
      "execution_count": null,
      "outputs": [
        {
          "output_type": "stream",
          "name": "stdout",
          "text": [
            "conda.yaml  MLmodel  model.pkl\tpython_env.yaml  requirements.txt\n"
          ]
        }
      ]
    },
    {
      "cell_type": "markdown",
      "source": [
        "### Ahora que sabemos que nuestro modelo esta y conocemos su ubicación:"
      ],
      "metadata": {
        "id": "3AW_u5-CopFn"
      }
    },
    {
      "cell_type": "code",
      "source": [
        "import mlflow.pyfunc\n",
        "\n",
        "# Ruta al modelo (ajustar al modelo real entrenado)\n",
        "model_path = f\"/content/drive/MyDrive/mlflow_runs/110792071088175407/{run_id}/artifacts/modelo_Estudiantes\"\n",
        "model = mlflow.pyfunc.load_model(model_path) #carga del modelo"
      ],
      "metadata": {
        "id": "vHnS4iUan-3C"
      },
      "execution_count": null,
      "outputs": []
    },
    {
      "cell_type": "markdown",
      "source": [
        "### Creamos la Api"
      ],
      "metadata": {
        "id": "CFuN4Fr0r2G0"
      }
    },
    {
      "cell_type": "code",
      "source": [
        "from flask import Flask, request, jsonify\n",
        "\n",
        "app = Flask(__name__)\n",
        "\n",
        "@app.route(\"/predict\", methods=[\"POST\"])\n",
        "def predict():\n",
        "    try:\n",
        "        data = request.get_json()\n",
        "        df = pd.DataFrame(data['data'], columns=data['columns'])\n",
        "\n",
        "        pred = model.predict(df)\n",
        "        return jsonify({\"prediction\": pred.tolist()})\n",
        "    except Exception as e:\n",
        "        return jsonify({\"error\": str(e)})"
      ],
      "metadata": {
        "id": "OtFo-50FrqCx"
      },
      "execution_count": null,
      "outputs": []
    },
    {
      "cell_type": "code",
      "source": [
        "from pyngrok import ngrok\n",
        "import threading\n",
        "\n",
        "# Crear un túnel a la API Flask\n",
        "public_url = ngrok.connect(5002)\n",
        "print(f\"🚀 Tu API Flask está disponible en: {public_url}/predict\")\n",
        "\n",
        "# Ejecutar Flask en segundo plano\n",
        "def run_flask():\n",
        "    app.run(port=5002)\n",
        "\n",
        "thread = threading.Thread(target=run_flask)\n",
        "thread.start()"
      ],
      "metadata": {
        "colab": {
          "base_uri": "https://localhost:8080/"
        },
        "id": "ES_Wz9q6t1Sn",
        "outputId": "36e50560-8b44-4883-8318-065e6b90e9ae"
      },
      "execution_count": null,
      "outputs": [
        {
          "output_type": "stream",
          "name": "stdout",
          "text": [
            "🚀 Tu API Flask está disponible en: NgrokTunnel: \"https://aa83-34-21-56-251.ngrok-free.app\" -> \"http://localhost:5002\"/predict\n"
          ]
        }
      ]
    },
    {
      "cell_type": "markdown",
      "source": [
        "### Los datos deben enviarse en el mismo orden con el que fueron entrenados (obviamente sin exam_score):\n",
        "['age', 'study_hours_per_day', 'social_media_hours', 'netflix_hours', 'attendance_percentage', 'sleep_hours', 'exercise_frequency', 'mental_health_rating', 'exam_score', 'gender_Female', 'gender_Male', 'gender_Other', 'part_time_job_No', 'part_time_job_Yes', 'diet_quality_Fair', 'diet_quality_Good', 'diet_quality_Poor', 'parental_education_level_Bachelor', 'parental_education_level_High School', 'parental_education_level_Master', 'internet_quality_Average', 'internet_quality_Good', 'internet_quality_Poor', 'extracurricular_participation_No', 'extracurricular_participation_Yes']"
      ],
      "metadata": {
        "id": "znoh81HhvG9T"
      }
    },
    {
      "cell_type": "code",
      "source": [
        "lista = df_encoded.head(2).values.tolist()\n",
        "print(lista)"
      ],
      "metadata": {
        "colab": {
          "base_uri": "https://localhost:8080/"
        },
        "id": "A-8l4QdQxXji",
        "outputId": "761dbc3c-b459-4ce5-e54a-5c92b0c2500b"
      },
      "execution_count": null,
      "outputs": [
        {
          "output_type": "stream",
          "name": "stdout",
          "text": [
            "[[23, 0, 1, 1, 85, 8, 6, 8, 56, 1, 0, 0, 1, 0, 1, 0, 0, 0, 0, 1, 1, 0, 0, 0, 1], [20, 6, 2, 2, 97, 4, 6, 8, 100, 1, 0, 0, 1, 0, 0, 1, 0, 0, 1, 0, 1, 0, 0, 1, 0]]\n"
          ]
        }
      ]
    },
    {
      "cell_type": "code",
      "source": [
        "import requests\n",
        "\n",
        "sample = {\n",
        "  \"columns\": [\n",
        "    'age', 'study_hours_per_day', 'social_media_hours', 'netflix_hours', 'attendance_percentage', 'sleep_hours',\n",
        "    'exercise_frequency', 'mental_health_rating', 'gender_Female', 'gender_Male', 'gender_Other', 'part_time_job_No',\n",
        "    'part_time_job_Yes', 'diet_quality_Fair', 'diet_quality_Good', 'diet_quality_Poor', 'parental_education_level_Bachelor', 'parental_education_level_High School',\n",
        "    'parental_education_level_Master', 'internet_quality_Average', 'internet_quality_Good', 'internet_quality_Poor', 'extracurricular_participation_No', 'extracurricular_participation_Yes'\n",
        "  ],\n",
        "  \"data\": [\n",
        "    [23, 0, 1, 1, 85, 8, 6, 8, 1, 0, 0, 1, 0, 1, 0, 0, 0, 0, 1, 1, 0, 0, 0, 1], # Nota les borre a mano el exam score\n",
        "    [20, 6, 2, 2, 97, 4, 6, 8, 1, 0, 0, 1, 0, 0, 1, 0, 0, 1, 0, 1, 0, 0, 1, 0]\n",
        "  ]\n",
        "}\n",
        "response = requests.post(\"https://aa83-34-21-56-251.ngrok-free.app/predict\", json=sample)\n",
        "print(\"Status code:\", response.status_code)\n",
        "print(\"Response text:\", response.text)  # Esto te muestra qué devolvió el servidor (aunque no sea JSON)\n",
        "try:\n",
        "    data = response.json()\n",
        "    print(\"JSON response:\", data)\n",
        "except Exception as e:\n",
        "    print(\"Error decodificando JSON:\", e)"
      ],
      "metadata": {
        "colab": {
          "base_uri": "https://localhost:8080/"
        },
        "id": "oxjRkFfQt_7_",
        "outputId": "7487f5f0-b327-4c6b-a64b-81f7825c07ca"
      },
      "execution_count": null,
      "outputs": [
        {
          "output_type": "stream",
          "name": "stderr",
          "text": [
            "INFO:werkzeug:127.0.0.1 - - [29/May/2025 20:58:07] \"POST /predict HTTP/1.1\" 200 -\n"
          ]
        },
        {
          "output_type": "stream",
          "name": "stdout",
          "text": [
            "Status code: 200\n",
            "Response text: {\"prediction\":[56.60895414159046,101.74224075523848]}\n",
            "\n",
            "JSON response: {'prediction': [56.60895414159046, 101.74224075523848]}\n"
          ]
        }
      ]
    },
    {
      "cell_type": "markdown",
      "source": [
        "### Si nos fijamos el exam_score de los primeros 2 estudiantes:"
      ],
      "metadata": {
        "id": "zChy-Ure2JJY"
      }
    },
    {
      "cell_type": "code",
      "source": [
        "print(df_encoded['exam_score'].head(2))"
      ],
      "metadata": {
        "colab": {
          "base_uri": "https://localhost:8080/"
        },
        "id": "ABVaabWb2QOf",
        "outputId": "9b7756b5-4035-42dd-ef1d-3d50a041b042"
      },
      "execution_count": null,
      "outputs": [
        {
          "output_type": "stream",
          "name": "stdout",
          "text": [
            "0     56\n",
            "1    100\n",
            "Name: exam_score, dtype: int64\n"
          ]
        }
      ]
    },
    {
      "cell_type": "markdown",
      "source": [
        "### La prediccion del mejor Modelo propuesto por Pycaret que es Bayesian Ridge nos dice que el primer alumno obtendrá un 56,6 de nota basado en sus habitos y el segundo alumno un 101,7 lo cual es muy certero pero tambien vemos que se va de rango. Esto puede deberse a:\n",
        "\n",
        "* El modelo no está restringido a ese rango.\n",
        "\n",
        "* Los datos de entrenamiento incluían valores atípicos.\n",
        "\n",
        "* O no normalizamos adecuadamente ni restringimos el output."
      ],
      "metadata": {
        "id": "F2mocTo30wuK"
      }
    }
  ]
}